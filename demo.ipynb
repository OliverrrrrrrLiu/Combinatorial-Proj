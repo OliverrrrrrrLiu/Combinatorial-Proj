{
 "cells": [
  {
   "cell_type": "code",
   "execution_count": 18,
   "metadata": {},
   "outputs": [],
   "source": [
    "import torch\n",
    "import numpy as np\n",
    "from preprocess import load_data\n",
    "from model import GCNModel, loss_fn\n",
    "\n",
    "import os\n",
    "import scipy.sparse as sp\n",
    "from scipy import io\n",
    "from preprocess import normalize, sparse_mx_to_torch_sparse_tensor"
   ]
  },
  {
   "cell_type": "code",
   "execution_count": 19,
   "metadata": {},
   "outputs": [],
   "source": [
    "def load_course_data(path=\"data/course\", feature_mode=\"plain\"):\n",
    "    fnames = os.listdir(path)\n",
    "    data = []\n",
    "    for fname in fnames:\n",
    "        print(fname)\n",
    "        if fname.startswith(\".\"): continue\n",
    "        mat = io.mmread(os.path.join(path, fname))\n",
    "        row, col = mat.nonzero()\n",
    "        nodes = max(np.max(row), np.max(col))+1\n",
    "        idx = np.where(row != col)\n",
    "        row, col = row[idx], col[idx]\n",
    "        adj = sp.coo_matrix((np.ones(len(row)), (row, col)), shape=mat.shape, dtype=np.float32)\n",
    "        adj = adj + adj.T\n",
    "        adj[adj > 0] = 1.\n",
    "        adj_hat = normalize(adj + sp.eye(adj.shape[0]))\n",
    "        adj_hat = sparse_mx_to_torch_sparse_tensor(adj_hat)\n",
    "        if feature_mode == \"plain\":\n",
    "            feat = torch.ones(nodes, 1).float()\n",
    "        else: # feature_mode == \"degree\":\n",
    "            feat = torch.Tensor(adj.sum(axis=1)/adj.shape[1]).view(-1,1).float()\n",
    "            feat = (feat-torch.min(feat))/(torch.max(feat)-torch.min(feat))\n",
    "        data.append((fname[:-4], feat, adj_hat, adj))\n",
    "    return data"
   ]
  },
  {
   "cell_type": "code",
   "execution_count": 20,
   "metadata": {},
   "outputs": [],
   "source": [
    "truth_dict = {\n",
    "    \"662_bus\": 306,\n",
    "    \"b2_ss\": 544,\n",
    "    \"bcspwr01\": 17,\n",
    "    \"bcspwr10\": 2576,\n",
    "    \"bcsstk05\": 76,\n",
    "    \"can_62\": 29,\n",
    "    \"dwt_72\": 32,\n",
    "    \"dwt_198\": 99,\n",
    "    \"dwt_2680\": 1340,\n",
    "    \"G15\": 400,\n",
    "    \"G17\": 400,\n",
    "    \"lp_e226\": 200,\n",
    "    \"lshp_406\": 203,\n",
    "    \"msc01440\": 720,\n",
    "    \"poli\": 792,\n",
    "    \"sphere3\": 129,\n",
    "    \"mark3jac020sc\": 4554,\n",
    "    \"bayer04\": 10238\n",
    "}"
   ]
  },
  {
   "cell_type": "code",
   "execution_count": 21,
   "metadata": {},
   "outputs": [
    {
     "name": "stdout",
     "output_type": "stream",
     "text": [
      "poli.mtx\n",
      ".DS_Store\n",
      "bcspwr10.mtx\n",
      "msc01440.mtx\n",
      "G17.mtx\n",
      "G15.mtx\n",
      "bcspwr01.mtx\n",
      "mark3jac020sc.mtx\n",
      "bayer04.mtx\n",
      "dwt_198.mtx\n",
      "bcsstk05.mtx\n",
      "lshp_406.mtx\n",
      "can_62.mtx\n",
      "662_bus.mtx\n",
      "dwt_72.mtx\n",
      "b2_ss.mtx\n",
      "sphere3.mtx\n",
      "dwt_2680.mtx\n"
     ]
    }
   ],
   "source": [
    "data = load_course_data(\"data/course\", feature_mode=\"degree\")"
   ]
  },
  {
   "cell_type": "code",
   "execution_count": 22,
   "metadata": {},
   "outputs": [
    {
     "data": {
      "text/plain": [
       "GCNModel(\n",
       "  (gcnlayers): Sequential(\n",
       "    (0): GraphConvolutionLayer()\n",
       "    (1): GraphConvolutionLayer()\n",
       "  )\n",
       "  (bilinear): SymmetricBilinearLayer()\n",
       ")"
      ]
     },
     "execution_count": 22,
     "metadata": {},
     "output_type": "execute_result"
    }
   ],
   "source": [
    "model = GCNModel(1, [16], 16, 0.5)\n",
    "model.load_state_dict(torch.load(\"model.pt\"))\n",
    "model.eval()"
   ]
  },
  {
   "cell_type": "code",
   "execution_count": 52,
   "metadata": {},
   "outputs": [],
   "source": [
    "def sort_idx_unravel(probs):\n",
    "    count = np.count_nonzero(probs)\n",
    "    i = probs.argsort(axis = None)[::-1]\n",
    "    j = np.unravel_index(i, probs.shape)\n",
    "    idx = np.vstack(j).T[:count]\n",
    "    return idx[1::2] \n",
    "\n",
    "def greedy_matching(idx):\n",
    "    node = []\n",
    "    matching_count = 0\n",
    "    for i in idx:\n",
    "        u, v = i[0], i[1]\n",
    "        if u in node or v in node:\n",
    "            pass\n",
    "        else:\n",
    "            node = np.append(node,[u,v])\n",
    "            matching_count += 1\n",
    "    return matching_count\n"
   ]
  },
  {
   "cell_type": "code",
   "execution_count": 53,
   "metadata": {},
   "outputs": [
    {
     "name": "stdout",
     "output_type": "stream",
     "text": [
      "poli torch.Size([4008, 1]) torch.Size([4008, 4008])\n",
      "bcspwr10 torch.Size([5300, 1]) torch.Size([5300, 5300])\n",
      "msc01440 torch.Size([1440, 1]) torch.Size([1440, 1440])\n",
      "G17 torch.Size([800, 1]) torch.Size([800, 800])\n",
      "G15 torch.Size([800, 1]) torch.Size([800, 800])\n",
      "bcspwr01 torch.Size([39, 1]) torch.Size([39, 39])\n",
      "mark3jac020sc torch.Size([9129, 1]) torch.Size([9129, 9129])\n",
      "bayer04 torch.Size([20545, 1]) torch.Size([20545, 20545])\n",
      "dwt_198 torch.Size([198, 1]) torch.Size([198, 198])\n",
      "bcsstk05 torch.Size([153, 1]) torch.Size([153, 153])\n",
      "lshp_406 torch.Size([406, 1]) torch.Size([406, 406])\n",
      "can_62 torch.Size([62, 1]) torch.Size([62, 62])\n",
      "662_bus torch.Size([662, 1]) torch.Size([662, 662])\n",
      "dwt_72 torch.Size([72, 1]) torch.Size([72, 72])\n",
      "b2_ss torch.Size([1089, 1]) torch.Size([1089, 1089])\n",
      "sphere3 torch.Size([258, 1]) torch.Size([258, 258])\n",
      "dwt_2680 torch.Size([2680, 1]) torch.Size([2680, 2680])\n",
      "{'poli': 0.03156565656565657, 'bcspwr10': 0.06832298136645963, 'msc01440': 0.001388888888888889, 'G17': 0.04, 'G15': 0.0425, 'bcspwr01': 0.0, 'mark3jac020sc': 0.04808959156785244, 'bayer04': 0.02822816956436804, 'dwt_198': 0.04040404040404041, 'bcsstk05': 0.05263157894736842, 'lshp_406': 0.059113300492610835, 'can_62': 0.034482758620689655, '662_bus': 0.049019607843137254, 'dwt_72': 0.03125, 'b2_ss': 0.01838235294117647, 'sphere3': 0.11627906976744186, 'dwt_2680': 0.011940298507462687}\n"
     ]
    }
   ],
   "source": [
    "opt_gap_dict = {}\n",
    "for i, (fname, feat, adj_mtx, adj) in enumerate(data):\n",
    "    print(fname, feat.shape, adj_mtx.shape)\n",
    "    \n",
    "    out = model(feat, adj_mtx).data.numpy()\n",
    "    mask = np.zeros(out.shape)\n",
    "    mask[adj.nonzero()] = 1.\n",
    "    out *= mask\n",
    "    match = greedy_match(sort_idx_unravel(out))\n",
    "    opt_gap_dict[fname] = (truth_dict[fname]-match) / truth_dict[fname]\n",
    "\n",
    "print(opt_gap_dict)"
   ]
  },
  {
   "cell_type": "code",
   "execution_count": 54,
   "metadata": {
    "scrolled": true
   },
   "outputs": [
    {
     "name": "stdout",
     "output_type": "stream",
     "text": [
      "3.962342914571489\n"
     ]
    }
   ],
   "source": [
    "len(opt_gap_dict)\n",
    "gap = 0.0\n",
    "for k,v in opt_gap_dict.items():\n",
    "    gap += v\n",
    "gap /= len(opt_gap_dict)\n",
    "print(gap * 100)"
   ]
  },
  {
   "cell_type": "code",
   "execution_count": 43,
   "metadata": {},
   "outputs": [
    {
     "name": "stdout",
     "output_type": "stream",
     "text": [
      "torch.Size([62, 1]) torch.Size([62, 62])\n"
     ]
    }
   ],
   "source": [
    "import matplotlib.pyplot as plt\n",
    "\n",
    "fname = \"data/course/can_62.mtx\"\n",
    "mat = io.mmread(fname)\n",
    "row, col = mat.nonzero()\n",
    "nodes = max(np.max(row), np.max(col))\n",
    "idx = np.where(row != col)\n",
    "row, col = row[idx], col[idx]\n",
    "adj = sp.coo_matrix((np.ones(len(row)), (row, col)), shape=mat.shape, dtype=np.float32)\n",
    "adj = adj + adj.T\n",
    "adj[adj > 0] = 1.\n",
    "adj_hat = normalize(adj + sp.eye(adj.shape[0]))\n",
    "adj_hat = sparse_mx_to_torch_sparse_tensor(adj_hat)\n",
    "\n",
    "feat = torch.Tensor(adj.sum(axis=1)/adj.shape[1]).view(-1,1).float()\n",
    "feat = (feat-torch.min(feat))/(torch.max(feat)-torch.min(feat))\n",
    "\n",
    "print(feat.shape, adj_hat.shape)\n",
    "out_pre_mask = model(feat, adj_hat).data.numpy()\n",
    "mask = np.zeros(out_pre_mask.shape)\n",
    "mask[adj.nonzero()] = 1.\n",
    "out_post_mask = out_pre_mask * mask"
   ]
  },
  {
   "cell_type": "code",
   "execution_count": 51,
   "metadata": {},
   "outputs": [
    {
     "data": {
      "text/plain": [
       "<matplotlib.image.AxesImage at 0x11b0cf890>"
      ]
     },
     "execution_count": 51,
     "metadata": {},
     "output_type": "execute_result"
    },
    {
     "data": {
      "image/png": "[encoded data removed]",
      "text/plain": [
       "<Figure size 1080x720 with 3 Axes>"
      ]
     },
     "metadata": {
      "needs_background": "light"
     },
     "output_type": "display_data"
    }
   ],
   "source": [
    "fig, axes = plt.subplots(nrows=1, ncols=3, figsize=(15,10))\n",
    "axes[0].imshow(adj_hat.to_dense().numpy())\n",
    "axes[1].imshow(out_pre_mask)\n",
    "axes[2].imshow(out_post_mask)"
   ]
  },
  {
   "cell_type": "code",
   "execution_count": null,
   "metadata": {},
   "outputs": [],
   "source": []
  }
 ],
 "metadata": {
  "kernelspec": {
   "display_name": "Python 3",
   "language": "python",
   "name": "python3"
  },
  "language_info": {
   "codemirror_mode": {
    "name": "ipython",
    "version": 3
   },
   "file_extension": ".py",
   "mimetype": "text/x-python",
   "name": "python",
   "nbconvert_exporter": "python",
   "pygments_lexer": "ipython3",
   "version": "3.7.5"
  }
 },
 "nbformat": 4,
 "nbformat_minor": 2
}
